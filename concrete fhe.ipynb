{
 "cells": [
  {
   "cell_type": "code",
   "execution_count": 1,
   "id": "06f3c8e7",
   "metadata": {},
   "outputs": [
    {
     "ename": "ModuleNotFoundError",
     "evalue": "No module named 'concrete'",
     "output_type": "error",
     "traceback": [
      "\u001b[0;31m---------------------------------------------------------------------------\u001b[0m",
      "\u001b[0;31mModuleNotFoundError\u001b[0m                       Traceback (most recent call last)",
      "Cell \u001b[0;32mIn [1], line 2\u001b[0m\n\u001b[1;32m      1\u001b[0m \u001b[38;5;28;01mimport\u001b[39;00m \u001b[38;5;21;01mtime\u001b[39;00m\n\u001b[0;32m----> 2\u001b[0m \u001b[38;5;28;01mfrom\u001b[39;00m \u001b[38;5;21;01mconcrete\u001b[39;00m \u001b[38;5;28;01mimport\u001b[39;00m fhe\n\u001b[1;32m      4\u001b[0m start \u001b[38;5;241m=\u001b[39m time\u001b[38;5;241m.\u001b[39mperf_counter()\n\u001b[1;32m      5\u001b[0m \u001b[38;5;28;01mdef\u001b[39;00m \u001b[38;5;21madd\u001b[39m(x, y):\n",
      "\u001b[0;31mModuleNotFoundError\u001b[0m: No module named 'concrete'"
     ]
    }
   ],
   "source": [
    "import time\n",
    "from concrete import fhe\n",
    "\n",
    "start = time.perf_counter()\n",
    "def add(x, y):\n",
    "    return x + y\n",
    "\n",
    "compiler = fhe.Compiler(add, {\"x\": \"encrypted\", \"y\": \"encrypted\"})\n",
    "inputset = [(2**56, 0x7d004cf63)]\n",
    "\n",
    "print(f\"Compiling...\")\n",
    "circuit = compiler.compile(inputset)\n",
    "\n",
    "print(f\"Generating keys...\")\n",
    "circuit.keygen()\n",
    "\n",
    "def split(a):\n",
    "    return [int(str(a)[::-1][i*16:(i+1)*16][::-1]) for i in range(-(-len(str(a))//16))]\n",
    "def bind_split(a,b):\n",
    "    return list(zip(a+[0]*(max(len(a), len(b))-len(a)), b+[0]*(max(len(a), len(b))-len(b))))\n",
    "def combine(l):\n",
    "    return sum([l[i]*(10**(16*i)) for i in range(len(l))])\n",
    "\n",
    "a = 0x13803677559c049a98a1576ad2f1fd15bdd9f81886f225c0850e883bd7d4cf63\n",
    "b = 0xd952fe0740d9d14011fc8ead3ab7de3c739d3aa93ce9254c10b0134d80d26a30\n",
    "\n",
    "\n",
    "examples = bind_split(split(a), split(b))\n",
    "result_list = []\n",
    "for example in examples:\n",
    "    encrypted_example = circuit.encrypt(*example)\n",
    "    encrypted_result = circuit.run(encrypted_example)\n",
    "    result = circuit.decrypt(encrypted_result)\n",
    "    result_list.append(result)\n",
    "    print(f\"Evaluation of {' + '.join(map(str, example))} homomorphically = {result}\")\n",
    "combine(result_list)"
   ]
  },
  {
   "cell_type": "code",
   "execution_count": 6,
   "id": "dda9a18b",
   "metadata": {},
   "outputs": [
    {
     "ename": "NameError",
     "evalue": "name 'a' is not defined",
     "output_type": "error",
     "traceback": [
      "\u001b[0;31m---------------------------------------------------------------------------\u001b[0m",
      "\u001b[0;31mNameError\u001b[0m                                 Traceback (most recent call last)",
      "Cell \u001b[0;32mIn[6], line 1\u001b[0m\n\u001b[0;32m----> 1\u001b[0m \u001b[43ma\u001b[49m\u001b[38;5;241m+\u001b[39mb \u001b[38;5;241m==\u001b[39m combine(result_list)\n",
      "\u001b[0;31mNameError\u001b[0m: name 'a' is not defined"
     ]
    }
   ],
   "source": [
    "a+b == combine(result_list)"
   ]
  },
  {
   "cell_type": "code",
   "execution_count": 7,
   "id": "1668e1fe",
   "metadata": {},
   "outputs": [
    {
     "name": "stdout",
     "output_type": "stream",
     "text": [
      "9.663352532981662\n"
     ]
    }
   ],
   "source": [
    "    end = time.perf_counter()\n",
    "    elapsed_time = end - start\n",
    "    print(elapsed_time)"
   ]
  },
  {
   "cell_type": "code",
   "execution_count": null,
   "id": "07d3cfd6",
   "metadata": {},
   "outputs": [],
   "source": []
  }
 ],
 "metadata": {
  "kernelspec": {
   "display_name": "SageMath 10.0",
   "language": "sage",
   "name": "sagemath-10.0"
  },
  "language_info": {
   "codemirror_mode": {
    "name": "ipython",
    "version": 3
   },
   "file_extension": ".py",
   "mimetype": "text/x-python",
   "name": "python",
   "nbconvert_exporter": "python",
   "pygments_lexer": "ipython3",
   "version": "3.11.1"
  }
 },
 "nbformat": 4,
 "nbformat_minor": 5
}

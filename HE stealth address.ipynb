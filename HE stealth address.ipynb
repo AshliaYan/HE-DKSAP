{
 "cells": [
  {
   "cell_type": "markdown",
   "id": "c3742913",
   "metadata": {},
   "source": [
    "# Bob wallet generation"
   ]
  },
  {
   "cell_type": "code",
   "execution_count": 4,
   "id": "ae0d52af",
   "metadata": {},
   "outputs": [
    {
     "name": "stdout",
     "output_type": "stream",
     "text": [
      "Requirement already satisfied: py_ecc in ./opt/anaconda3/lib/python3.9/site-packages (6.0.0)\n",
      "Requirement already satisfied: eth-typing<4,>=3.0.0 in ./opt/anaconda3/lib/python3.9/site-packages (from py_ecc) (3.4.0)\n",
      "Requirement already satisfied: eth-utils<3,>=2.0.0 in ./opt/anaconda3/lib/python3.9/site-packages (from py_ecc) (2.1.1)\n",
      "Requirement already satisfied: mypy-extensions>=0.4.1 in ./opt/anaconda3/lib/python3.9/site-packages (from py_ecc) (0.4.3)\n",
      "Requirement already satisfied: cached-property<2,>=1.5.1 in ./opt/anaconda3/lib/python3.9/site-packages (from py_ecc) (1.5.2)\n",
      "Requirement already satisfied: eth-hash>=0.3.1 in ./opt/anaconda3/lib/python3.9/site-packages (from eth-utils<3,>=2.0.0->py_ecc) (0.5.2)\n",
      "Requirement already satisfied: cytoolz>=0.10.1 in ./opt/anaconda3/lib/python3.9/site-packages (from eth-utils<3,>=2.0.0->py_ecc) (0.11.0)\n",
      "Requirement already satisfied: toolz>=0.8.0 in ./opt/anaconda3/lib/python3.9/site-packages (from cytoolz>=0.10.1->eth-utils<3,>=2.0.0->py_ecc) (0.11.2)\n",
      "\u001b[33mWARNING: Skipping sha3 as it is not installed.\u001b[0m\u001b[33m\n",
      "\u001b[0mRequirement already satisfied: ecdsa in ./opt/anaconda3/lib/python3.9/site-packages (0.18.0)\n",
      "Requirement already satisfied: six>=1.9.0 in ./opt/anaconda3/lib/python3.9/site-packages (from ecdsa) (1.16.0)\n",
      "Requirement already satisfied: pysha3 in ./opt/anaconda3/lib/python3.9/site-packages (1.0.2)\n",
      "Requirement already satisfied: phe in ./opt/anaconda3/lib/python3.9/site-packages (1.5.0)\n",
      "\u001b[31mERROR: Could not find a version that satisfies the requirement concrete-python (from versions: none)\u001b[0m\u001b[31m\n",
      "\u001b[0m\u001b[31mERROR: No matching distribution found for concrete-python\u001b[0m\u001b[31m\n",
      "\u001b[0m"
     ]
    }
   ],
   "source": [
    "# config env\n",
    "#!pip install py_ecc\n",
    "#!pip uninstall sha3\n",
    "#!pip install ecdsa\n",
    "#!pip install pysha3\n",
    "#!pip install phe\n",
    "!pip install concrete-python"
   ]
  },
  {
   "cell_type": "code",
   "execution_count": 3,
   "id": "5b861c76",
   "metadata": {},
   "outputs": [],
   "source": [
    "import hashlib\n",
    "from py_ecc.secp256k1 import *\n",
    "import sha3\n",
    "from eth_account import Account\n",
    "from ecdsa import SigningKey, SECP256k1 \n",
    "from phe import paillier"
   ]
  },
  {
   "cell_type": "code",
   "execution_count": 6,
   "id": "2156cc31",
   "metadata": {},
   "outputs": [
    {
     "name": "stdout",
     "output_type": "stream",
     "text": [
      "(55066263022277343669578718895168534326250603453777594175500187360389116729240, 32670510020758816978083085130507043184471273380659243275938904335757337482424)\n"
     ]
    }
   ],
   "source": [
    "print(secp256k1.G)"
   ]
  },
  {
   "cell_type": "code",
   "execution_count": 7,
   "id": "76cf7971",
   "metadata": {},
   "outputs": [
    {
     "name": "stdout",
     "output_type": "stream",
     "text": [
      "Bob\n",
      "==== sk_bob: \n",
      " 8820476458925801522381692954830752984895658962939311888421485220456817807203\n",
      "==== PK_bob=G*sk_bob \n",
      " (66308977532324777246755440929893538803702139848914800508388379439121578598121, 74282901316977640338205813941139843601962206750695816950367302342758470583341)\n",
      "==== WA2=-40(HPK): \n",
      " 0x8a31e51ad0cf970cfb4de3c7c9929a0813fbfea1\n"
     ]
    }
   ],
   "source": [
    "def sk_PK_HPK_WA(sk):\n",
    "    # PK = secp256k1.privtopub(s.to_bytes(32, \"big\"))\n",
    "    PK = secp256k1.multiply(secp256k1.G, secp256k1.bytes_to_int(sk.to_bytes(32, \"big\")))  \n",
    "    HPK = sha3.keccak_256(PK[0].to_bytes(32, \"big\")+PK[1].to_bytes(32, \"big\")).hexdigest()\n",
    "    WA = \"0x\"+ HPK[-40:]\n",
    "    return PK, HPK, WA\n",
    "    \n",
    "sk_bob = int(0x13803677559c049a98a1576ad2f1fd15bdd9f81886f225c0850e883bd7d4cf63)\n",
    "PK_bob, HPK_bob, WA_bob = sk_PK_HPK_WA(sk_bob)\n",
    "\n",
    "name = 'Bob'\n",
    "print(name)\n",
    "#print('==== G: \\n', secp256k1.G)\n",
    "print('==== sk_bob: \\n', sk_bob)\n",
    "print('==== PK_bob=G*sk_bob \\n', PK_bob)\n",
    "#print('==== HPK=h256(PK) \\n', HPK_bob)\n",
    "print('==== WA2=-40(HPK): \\n', WA_bob)\n",
    "\n",
    "\n",
    "def get_PK(sk):\n",
    "    PK = secp256k1.multiply(secp256k1.G, secp256k1.bytes_to_int(sk.to_bytes(32, \"big\")))\n",
    "    return PK"
   ]
  },
  {
   "cell_type": "markdown",
   "id": "707af748",
   "metadata": {},
   "source": [
    "# Bob secret key generation (Paillier)"
   ]
  },
  {
   "cell_type": "code",
   "execution_count": 8,
   "id": "bb1a07df",
   "metadata": {},
   "outputs": [
    {
     "name": "stdout",
     "output_type": "stream",
     "text": [
      "==== sk_bob_fhe: \n",
      " <PaillierPrivateKey for <PaillierPublicKey 1755f1254f>>\n",
      "==== PK_bob_fhe: \n",
      " <PaillierPublicKey 1755f1254f>\n"
     ]
    }
   ],
   "source": [
    "public_key, private_key = paillier.generate_paillier_keypair()\n",
    "print('==== sk_bob_fhe: \\n', private_key)\n",
    "print('==== PK_bob_fhe: \\n', public_key)"
   ]
  },
  {
   "cell_type": "code",
   "execution_count": 9,
   "id": "9670b81d",
   "metadata": {},
   "outputs": [
    {
     "name": "stdout",
     "output_type": "stream",
     "text": [
      "==== C2: \n",
      " <phe.paillier.EncryptedNumber object at 0x7ff22a28ff70>\n"
     ]
    }
   ],
   "source": [
    "C2 = public_key.encrypt(sk_bob)\n",
    "print('==== C2: \\n', C2)"
   ]
  },
  {
   "cell_type": "markdown",
   "id": "faf34f3e",
   "metadata": {},
   "source": [
    "# Alice secret key generation (Paillier)"
   ]
  },
  {
   "cell_type": "code",
   "execution_count": 10,
   "id": "9203efbb",
   "metadata": {},
   "outputs": [
    {
     "name": "stdout",
     "output_type": "stream",
     "text": [
      "Alice\n",
      "==== sk_alice_fhe: \n",
      " 98298522841001936806542785690725155579423954746529030545381741127082542524976\n",
      "==== PK_alice_fhe=G*sk_alice_fhe \n",
      " (22246744184454969143801186698733154500632648736073949898323976612504587645286, 110772761940586493986212935445517909380300793379795289150161960681985511655321)\n"
     ]
    }
   ],
   "source": [
    "sk_alice_fhe = int(0xd952fe0740d9d14011fc8ead3ab7de3c739d3aa93ce9254c10b0134d80d26a30)\n",
    "PK_alice_fhe = get_PK(sk_alice_fhe)\n",
    "\n",
    "name = 'Alice'\n",
    "print(name)\n",
    "print('==== sk_alice_fhe: \\n', sk_alice_fhe)\n",
    "print('==== PK_alice_fhe=G*sk_alice_fhe \\n', PK_alice_fhe)\n",
    "\n",
    "def get_PK(sk):\n",
    "    PK = secp256k1.multiply(secp256k1.G, secp256k1.bytes_to_int(sk.to_bytes(32, \"big\")))\n",
    "    return PK\n"
   ]
  },
  {
   "cell_type": "code",
   "execution_count": 15,
   "id": "6c0a8601",
   "metadata": {},
   "outputs": [
    {
     "name": "stdout",
     "output_type": "stream",
     "text": [
      "==== PK_fhe_alice: \n",
      " (56643590336203163844655999682952879186150511458997791576780669002181049948650, 80447776592323555958913524344157008921432373288044289322709521989151125370528)\n"
     ]
    }
   ],
   "source": [
    "PK_fhe_alice = secp256k1.add(PK_alice_fhe, PK_bob)\n",
    "print('==== PK_fhe_alice: \\n', PK_fhe_alice)"
   ]
  },
  {
   "cell_type": "code",
   "execution_count": 16,
   "id": "ff59f9f8",
   "metadata": {},
   "outputs": [
    {
     "name": "stdout",
     "output_type": "stream",
     "text": [
      "==== WA_z: \n",
      " 0x59c787fb7b25627bd93272b4695c673340b0959d\n"
     ]
    }
   ],
   "source": [
    "HPK_fhe_alice = sha3.keccak_256(PK_fhe_alice[0].to_bytes(32,'big')+PK_fhe_alice[1].to_bytes(32,'big')).hexdigest()\n",
    "WA_fhe_alice = \"0x\"+ HPK_fhe_alice[-40:]\n",
    "print('==== WA_fhe_alice: \\n', WA_fhe_alice)"
   ]
  },
  {
   "cell_type": "code",
   "execution_count": 17,
   "id": "80ca04b8",
   "metadata": {},
   "outputs": [
    {
     "name": "stdout",
     "output_type": "stream",
     "text": [
      "==== C1: \n",
      " <phe.paillier.EncryptedNumber object at 0x7ff229716e50>\n"
     ]
    }
   ],
   "source": [
    "C1 = public_key.encrypt(sk_alice_fhe)\n",
    "print('==== C1: \\n', C1)"
   ]
  },
  {
   "cell_type": "markdown",
   "id": "16b118a5",
   "metadata": {},
   "source": [
    "# Bob side "
   ]
  },
  {
   "cell_type": "code",
   "execution_count": 18,
   "id": "6779c940",
   "metadata": {},
   "outputs": [
    {
     "name": "stdout",
     "output_type": "stream",
     "text": [
      "==== C: \n",
      " <phe.paillier.EncryptedNumber object at 0x7ff229716370>\n"
     ]
    }
   ],
   "source": [
    "C = C1 + C2\n",
    "print('==== C: \\n', C)"
   ]
  },
  {
   "cell_type": "code",
   "execution_count": 19,
   "id": "7655b20c",
   "metadata": {},
   "outputs": [
    {
     "name": "stdout",
     "output_type": "stream",
     "text": [
      "==== sk_fhe: \n",
      " 107118999299927738328924478645555908564319613709468342433803226347539360332179\n",
      "==== sk_alice_fhe + sk_bob: \n",
      " 107118999299927738328924478645555908564319613709468342433803226347539360332179\n"
     ]
    }
   ],
   "source": [
    "sk_fhe = private_key.decrypt(C)   # only bob has \n",
    "print('==== sk_fhe: \\n', sk_fhe)\n",
    "print('==== sk_alice_fhe + sk_bob: \\n', sk_alice_fhe + sk_bob)"
   ]
  },
  {
   "cell_type": "code",
   "execution_count": 20,
   "id": "7985abb7",
   "metadata": {},
   "outputs": [
    {
     "name": "stdout",
     "output_type": "stream",
     "text": [
      "==== PK_fhe: \n",
      " (56643590336203163844655999682952879186150511458997791576780669002181049948650, 80447776592323555958913524344157008921432373288044289322709521989151125370528)\n"
     ]
    }
   ],
   "source": [
    "PK_fhe_bob = get_PK(sk_fhe)\n",
    "print('==== PK_fhe: \\n', PK_fhe_bob)"
   ]
  },
  {
   "cell_type": "code",
   "execution_count": 21,
   "id": "2f6276e8",
   "metadata": {},
   "outputs": [
    {
     "data": {
      "text/plain": [
       "True"
      ]
     },
     "execution_count": 21,
     "metadata": {},
     "output_type": "execute_result"
    }
   ],
   "source": [
    "PK_fhe_alice == PK_fhe_bob"
   ]
  },
  {
   "cell_type": "code",
   "execution_count": 23,
   "id": "5b18f76f",
   "metadata": {},
   "outputs": [
    {
     "name": "stdout",
     "output_type": "stream",
     "text": [
      "==== WA_z: \n",
      " 0x59c787fb7b25627bd93272b4695c673340b0959d\n"
     ]
    }
   ],
   "source": [
    "HPK_fhe_bob = sha3.keccak_256(PK_fhe_bob[0].to_bytes(32,'big')+PK_fhe_bob[1].to_bytes(32,'big')).hexdigest()\n",
    "WA_fhe_bob = \"0x\"+ HPK_fhe_bob[-40:]\n",
    "print('==== WA_z: \\n', WA_fhe_bob)"
   ]
  },
  {
   "cell_type": "code",
   "execution_count": 24,
   "id": "633613da",
   "metadata": {},
   "outputs": [
    {
     "data": {
      "text/plain": [
       "True"
      ]
     },
     "execution_count": 24,
     "metadata": {},
     "output_type": "execute_result"
    }
   ],
   "source": [
    "WA_fhe_alice == WA_fhe_bob  #Alice and bob has the same wallet address but only bob can decrypt it"
   ]
  }
 ],
 "metadata": {
  "kernelspec": {
   "display_name": "“py3.9”",
   "language": "python",
   "name": "py3.9"
  },
  "language_info": {
   "codemirror_mode": {
    "name": "ipython",
    "version": 3
   },
   "file_extension": ".py",
   "mimetype": "text/x-python",
   "name": "python",
   "nbconvert_exporter": "python",
   "pygments_lexer": "ipython3",
   "version": "3.9.13"
  }
 },
 "nbformat": 4,
 "nbformat_minor": 5
}
